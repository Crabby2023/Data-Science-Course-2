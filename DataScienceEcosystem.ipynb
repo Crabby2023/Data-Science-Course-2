{
 "cells": [
  {
   "cell_type": "markdown",
   "id": "3d7e9517",
   "metadata": {},
   "source": [
    "# Data Science Tools and Excosystem"
   ]
  },
  {
   "cell_type": "markdown",
   "id": "096c2c33",
   "metadata": {},
   "source": [
    "In this notebook, Data Science Tool and Ecosytem are summarized."
   ]
  },
  {
   "cell_type": "markdown",
   "id": "95799d0c",
   "metadata": {},
   "source": [
    "**Objectives:**\n",
    "- List polpular languages for Data Science\n",
    "- List commonly use libraries used by Data Scientis\n",
    "- List of Data Science Tools\n",
    "- List few exampels of evaluating arithmetic expressions"
   ]
  },
  {
   "cell_type": "markdown",
   "id": "d4be7c07",
   "metadata": {},
   "source": [
    "Some of the popular languages that Data Scientists us are: \n",
    "1. R\n",
    "2. Python\n",
    "3. SQL"
   ]
  },
  {
   "cell_type": "markdown",
   "id": "1838708a",
   "metadata": {},
   "source": [
    "Some of the commonly use libraries used by Data Scientist includes:\n",
    "1. NumPy\n",
    "2. Pandas\n",
    "3. Matplotlib"
   ]
  },
  {
   "cell_type": "markdown",
   "id": "5e9d48ca",
   "metadata": {},
   "source": [
    "|Data Science Tools|\n",
    "|-----|\n",
    "1. VS Code\n",
    "2. RStudio\n",
    "3. Jupiter Notebooks"
   ]
  },
  {
   "cell_type": "markdown",
   "id": "878a1f3b",
   "metadata": {},
   "source": [
    "### Below are a few examples of evaluating arithmetic expressions in Python\n",
    "1. \"+\" Addition\n",
    "2. \"-\" Subtraktion\n",
    "3. \"/\" Division\n"
   ]
  },
  {
   "cell_type": "code",
   "execution_count": 2,
   "id": "d3e8b5a2",
   "metadata": {},
   "outputs": [
    {
     "data": {
      "text/plain": [
       "17"
      ]
     },
     "execution_count": 2,
     "metadata": {},
     "output_type": "execute_result"
    }
   ],
   "source": [
    "(3*4)+5 #This is a simple arithmetiv expression to mutiply then add integers"
   ]
  },
  {
   "cell_type": "code",
   "execution_count": 14,
   "id": "a50ff4ee",
   "metadata": {},
   "outputs": [
    {
     "data": {
      "text/plain": [
       "3.3333333333333335"
      ]
     },
     "execution_count": 14,
     "metadata": {},
     "output_type": "execute_result"
    }
   ],
   "source": [
    "# This will convert 200 minutes to houres by diving by 60\n",
    "\n",
    "200/60\n"
   ]
  },
  {
   "cell_type": "markdown",
   "id": "0cb56f93",
   "metadata": {},
   "source": [
    "## Author\n",
    "Cravaack"
   ]
  },
  {
   "cell_type": "code",
   "execution_count": null,
   "id": "87889688",
   "metadata": {},
   "outputs": [],
   "source": []
  }
 ],
 "metadata": {
  "kernelspec": {
   "display_name": "Python 3 (ipykernel)",
   "language": "python",
   "name": "python3"
  },
  "language_info": {
   "codemirror_mode": {
    "name": "ipython",
    "version": 3
   },
   "file_extension": ".py",
   "mimetype": "text/x-python",
   "name": "python",
   "nbconvert_exporter": "python",
   "pygments_lexer": "ipython3",
   "version": "3.9.12"
  }
 },
 "nbformat": 4,
 "nbformat_minor": 5
}
